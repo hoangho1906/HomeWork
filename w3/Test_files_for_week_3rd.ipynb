{
 "metadata": {
  "language_info": {
   "codemirror_mode": {
    "name": "ipython",
    "version": 3
   },
   "file_extension": ".py",
   "mimetype": "text/x-python",
   "name": "python",
   "nbconvert_exporter": "python",
   "pygments_lexer": "ipython3",
   "version": "3.8.6-final"
  },
  "orig_nbformat": 2,
  "kernelspec": {
   "name": "Python 3.8.6 64-bit",
   "display_name": "Python 3.8.6 64-bit",
   "metadata": {
    "interpreter": {
     "hash": "d060b358b4ace148aa35037a5c92634cea33c6cf8b997e0d2cd9c6ae31273d95"
    }
   }
  }
 },
 "nbformat": 4,
 "nbformat_minor": 2,
 "cells": [
  {
   "cell_type": "code",
   "execution_count": 1,
   "metadata": {
    "tags": []
   },
   "outputs": [
    {
     "output_type": "stream",
     "name": "stdout",
     "text": "6\n"
    }
   ],
   "source": [
    "key = {1: \"a\", 2: \"b\", 3: \"c\", 4: \"d\", 5: \"s\", 6:\"a\"}\n",
    "print(len(key))"
   ]
  },
  {
   "cell_type": "code",
   "execution_count": null,
   "metadata": {},
   "outputs": [],
   "source": [
    "\n",
    "with open(\"key.txt\", \"r\") as dap_an:\n",
    "    key = dap_an.readlines()"
   ]
  },
  {
   "cell_type": "code",
   "execution_count": 45,
   "metadata": {},
   "outputs": [
    {
     "output_type": "stream",
     "name": "stdout",
     "text": [
      "['Câu 1: Phần của đường bộ được sử dụng cho các loại phương tiện gì?\\n', '    1: Phần mặt và lề đường   \\n', '    2: Phần đường xe chạy   \\n', '    3: Phần đường xe cơ giới.\\n', '\\n', 'Câu 2: \"Làn đường\" là gì?\\n', '    1: Là một phần của đường xe chạy chia theo   \\n', '    2: Là đường xe chạy chia chiều dọc   \\n', '    3: Là đường ô tô chạy.\\n', '\\n', 'Câu 3: Khái niệm \"khổ giới hạn của đường bộ\" đưuojc hiểu như thế nào?\\n', '    1: Là khoảng trống có giới hạn về chiều cao   \\n', '    2: Là khoảng trống có giới hạn về chiều rộng   \\n', '    3: Là khoảng trống gì đó abc\\n', '\\n', 'Câu 4: Trong các khái niệm dưới đây, dải phân cách được hiểu như thế nào là đúng?\\n', '    1: Là phần đường để ngăn cách   \\n', '    2: là một phần đường ngăn cách hành lang abc   \\n', '    3: Chia mặt đường thành 2 chiều.\\n', '\\n', 'Câu 5: \"Dải phân cách\" trên đường bộ gồm những loại nào?\\n', '    1: Dải phân cách gồm cố định và di động   \\n', '    2: Dải phân cách gồm tường chống ốn, hộ lan cứng và mềm   \\n', '    3: Gồm Giá long môn và biển báo hiệu đường.\\n', '\\n', 'Câu 6: Người lái xe được hiểu như thế nào trong các khái niệm dưới đây?\\n', '    1: Là người điều khiển xe cơ giới   \\n', '    2: Là người điều khiến xe thô sơ   \\n', '    3: Là người điều khiển xe do súc vật kéo.\\n']\n"
     ]
    }
   ],
   "source": [
    "li = []\n",
    "with open(\"testFile.txt\", \"r\", encoding=\"utf-8\") as op:\n",
    "    li = op.readlines()\n",
    "print(li)"
   ]
  },
  {
   "cell_type": "code",
   "execution_count": null,
   "metadata": {},
   "outputs": [],
   "source": []
  }
 ]
}